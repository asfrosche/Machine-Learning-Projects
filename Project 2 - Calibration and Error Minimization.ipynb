{
  "cells": [
    {
      "cell_type": "markdown",
      "source": [
        "Asfrosche"
      ],
      "metadata": {
        "id": "Q1dy6DPhbeK1"
      }
    },
    {
      "cell_type": "markdown",
      "source": [
        "**Submisssion 2**\n"
      ],
      "metadata": {
        "id": "piIqLK3Ikovw"
      }
    },
    {
      "cell_type": "markdown",
      "metadata": {
        "id": "VLGgJ5KZsH8-"
      },
      "source": [
        "Importing Necessary Data and Libraries.\n"
      ]
    },
    {
      "cell_type": "code",
      "source": [
        "\n",
        "import numpy as np\n",
        "import pandas as pd\n",
        "import seaborn as sns\n",
        "import textblob, string\n",
        "import xgboost as xgb\n",
        "# keras\n",
        "from keras import layers, models, optimizers\n",
        "from keras.layers import Dense\n",
        "from keras.models import Sequential\n",
        "from keras.preprocessing import text, sequence\n",
        "from lightgbm import LGBMClassifier\n",
        "# sklearn\n",
        "from sklearn import decomposition, ensemble\n",
        "from sklearn import metrics\n",
        "from sklearn import model_selection\n",
        "from sklearn import model_selection, preprocessing, linear_model, naive_bayes, metrics\n",
        "from sklearn import preprocessing\n",
        "from sklearn.datasets import make_classification\n",
        "from sklearn.ensemble import ExtraTreesClassifier\n",
        "from sklearn.ensemble import GradientBoostingClassifier\n",
        "from sklearn.ensemble import GradientBoostingClassifier,AdaBoostClassifier,BaggingClassifier, RandomForestClassifier\n",
        "from sklearn.ensemble import RandomForestClassifier\n",
        "from sklearn.feature_extraction.text import TfidfVectorizer, CountVectorizer\n",
        "from sklearn.linear_model import LogisticRegression\n",
        "from sklearn.linear_model import Ridge\n",
        "from sklearn.metrics import accuracy_score\n",
        "from sklearn.metrics import classification_report, confusion_matrix\n",
        "from sklearn.metrics import confusion_matrix\n",
        "from sklearn.metrics import mean_squared_error\n",
        "from sklearn.metrics import mean_squared_error, mean_absolute_error\n",
        "from sklearn.metrics import plot_confusion_matrix\n",
        "from sklearn.model_selection import cross_val_score\n",
        "from sklearn.model_selection import cross_val_score, KFold\n",
        "from sklearn.model_selection import train_test_split\n",
        "from sklearn.naive_bayes import GaussianNB\n",
        "from sklearn.neighbors import KNeighborsClassifier\n",
        "from sklearn.neural_network import MLPClassifier\n",
        "from sklearn.preprocessing import StandardScaler, Normalizer\n",
        "from sklearn.tree import DecisionTreeClassifier\n",
        "# algos\n",
        "from textblob import TextBlob\n",
        "from xgboost import XGBClassifier\n",
        "from xgboost.sklearn import XGBClassifier\n",
        "from warnings import filterwarnings\n",
        "\n",
        "filterwarnings('ignore')\n",
        "import matplotlib.pyplot as plt\n",
        "# stopworsd\n",
        "import nltk\n",
        "from nltk.corpus import stopwords\n",
        "seed = 7\n",
        "np.random.seed(seed)\n",
        "%matplotlib inline\n",
        "print(\"successfully imported libraries\")"
      ],
      "metadata": {
        "id": "sd4_UDJ9horg",
        "colab": {
          "base_uri": "https://localhost:8080/"
        },
        "outputId": "16e74338-6685-42f4-8907-0118cd311e82"
      },
      "execution_count": null,
      "outputs": [
        {
          "output_type": "stream",
          "name": "stdout",
          "text": [
            "successfully imported libraries\n"
          ]
        }
      ]
    },
    {
      "cell_type": "markdown",
      "source": [
        "Getting data from csv files and printing correlation values"
      ],
      "metadata": {
        "id": "Vq2j8rRl7ug_"
      }
    },
    {
      "cell_type": "code",
      "execution_count": null,
      "metadata": {
        "id": "_HzxwEEJCDcE",
        "colab": {
          "base_uri": "https://localhost:8080/"
        },
        "outputId": "337edc79-6285-4ae6-b160-38ea644aedef"
      },
      "outputs": [
        {
          "output_type": "stream",
          "name": "stdout",
          "text": [
            "   price  year  mileage        city state       make           model\n",
            "0      1  2016    19366  Shreveport    LA    Hyundai       TucsonFWD\n",
            "1      1  2016    23413        PERU    IL  Chevrolet       Impala2LT\n",
            "2      1  2011    82044      Conway    SC   Cadillac             CTS\n",
            "3      1  2016    36691  West Allis    WI    Hyundai        AccentSE\n",
            "4      1  2014    23752    Oroville    CA       Ford  FocusHatchback\n",
            "            price      year   mileage\n",
            "price    1.000000 -0.165705  0.179477\n",
            "year    -0.165705  1.000000 -0.765377\n",
            "mileage  0.179477 -0.765377  1.000000\n"
          ]
        }
      ],
      "source": [
        "large = \"pred_comp_3_and_4_training_large.csv\" # df\n",
        "small = \"pred_comp_3_and_4_training_small.csv\"\n",
        "test_data = \"pred_comp_3_and_4_test_data.csv\" # df_t\n",
        "\n",
        "# train data\n",
        "df = pd.read_csv(large)\n",
        "df[\"price\"] = np.where(df[\"price\"] > 40000, 0, 1)\n",
        "\n",
        "df2 = pd.read_csv(small)\n",
        "df2[\"price\"] = np.where(df2[\"price\"] > 40000, 0, 1)\n",
        "\n",
        "# test data\n",
        "df_t =  pd.read_csv(test_data)\n",
        "df_t[\"price\"] = np.where(df_t[\"price\"] > 40000, 0, 1)\n",
        "# df.isna().sum()\n",
        "print(df.head())\n",
        "\n",
        "corr = df.corr()\n",
        "print(corr)"
      ]
    },
    {
      "cell_type": "code",
      "source": [
        "import copy\n",
        "df_train=copy.deepcopy(df)\n",
        "df_test=copy.deepcopy(df_t)\n",
        "\n",
        "cols=np.array(df.columns[df.dtypes != object])\n",
        "for i in df_train.columns:\n",
        "    if i not in cols:\n",
        "        df_train[i]=df_train[i].map(str)\n",
        "        df_test[i]=df_test[i].map(str)\n",
        "df_train.drop(columns=cols,inplace=True)\n",
        "df_test.drop(columns=np.delete(cols,len(cols)-1),inplace=True)"
      ],
      "metadata": {
        "id": "2c2w_wPwjW1M"
      },
      "execution_count": null,
      "outputs": []
    },
    {
      "cell_type": "code",
      "source": [
        "from sklearn.preprocessing import LabelEncoder\n",
        "from collections import defaultdict\n",
        "\n",
        "# build dictionary function\n",
        "cols=np.array(df.columns[df.dtypes != object])\n",
        "d = defaultdict(LabelEncoder)\n",
        "\n",
        "# only for categorical columns apply dictionary by calling fit_transform \n",
        "df_train = df_train.apply(lambda x: d[x.name].fit_transform(x))\n",
        "df_train[cols] = df[cols]\n",
        "df_test = df_test.apply(lambda x: d[x.name].fit_transform(x))\n",
        "df_test[cols] = df_t[cols]\n",
        "print(df_train.head())\n",
        "print(df_test.head())\n"
      ],
      "metadata": {
        "id": "i9wMkAHWdtyv",
        "colab": {
          "base_uri": "https://localhost:8080/"
        },
        "outputId": "da1357dd-a409-43cc-8c9e-5489cca01510"
      },
      "execution_count": null,
      "outputs": [
        {
          "output_type": "stream",
          "name": "stdout",
          "text": [
            "   city  state  make  model  price  year  mileage\n",
            "0  2073     22    21   2219      1  2016    19366\n",
            "1  1712     18     9   1142      1  2016    23413\n",
            "2   460     46     8    431      1  2011    82044\n",
            "3  2417     55    21    232      1  2016    36691\n",
            "4  1691      5    15    928      1  2014    23752\n",
            "   mileage  city  state  make  model  price  year\n",
            "0    78669  1725      5     5     49      1  2011\n",
            "1    14932  1440      5    48   2076      1  2016\n",
            "2    53001   216      6    25    900      1  2014\n",
            "3    64502  1561     51    10     30      1  2013\n",
            "4    15295   992     18    22   1397      0  2016\n"
          ]
        }
      ]
    },
    {
      "cell_type": "code",
      "source": [
        "def Definedata():\n",
        "    # define dataset\n",
        "    data2 = df_train\n",
        "    X = data2.drop(columns=['price']).values\n",
        "    y0 = data2['price'].values\n",
        "    lab_enc = preprocessing.LabelEncoder()\n",
        "    y = lab_enc.fit_transform(y0)\n",
        "    return X, y"
      ],
      "metadata": {
        "id": "zstLqYgOhIMK"
      },
      "execution_count": null,
      "outputs": []
    },
    {
      "cell_type": "code",
      "source": [
        "def DefineTestdata():\n",
        "    # define dataset\n",
        "    data3 = df_test\n",
        "    X = data3.drop(columns=['price']).values\n",
        "    y0 = data3['price'].values\n",
        "    lab_enc = preprocessing.LabelEncoder()\n",
        "    y = lab_enc.fit_transform(y0)\n",
        "    return X, y"
      ],
      "metadata": {
        "id": "XPchkBsaul8X"
      },
      "execution_count": null,
      "outputs": []
    },
    {
      "cell_type": "code",
      "source": [
        "def Models(models):\n",
        "    \n",
        "    model = models\n",
        "    X_train, y_train = Definedata()\n",
        "    X_test, y_test = DefineTestdata()\n",
        "    # X_train, X_test, y_train, y_test = train_test_split(X, y, test_size = 0.33, random_state = 1)\n",
        "    model.fit(X_train,y_train)\n",
        "    y_pred = model.predict(X_test)\n",
        "    y_total = model.predict(X_train)\n",
        "    \n",
        "    print(\"\\t\\tError Table\")\n",
        "    print('Mean Absolute Error      : ', metrics.mean_absolute_error(y_test, y_pred))\n",
        "    print('Mean Squared  Error      : ', metrics.mean_squared_error(y_test, y_pred))\n",
        "    print('Root Mean Squared  Error : ', np.sqrt(metrics.mean_squared_error(y_test, y_pred)))\n",
        "    print('Accuracy                 : ', metrics.accuracy_score(y_test, y_pred))\n",
        "    return y_total, y_train"
      ],
      "metadata": {
        "id": "W2bxac7ZmulT"
      },
      "execution_count": null,
      "outputs": []
    },
    {
      "cell_type": "code",
      "source": [
        "def Graph_prediction(n, y_actual, y_predicted):\n",
        "    y = y_actual\n",
        "    y_total = y_predicted\n",
        "    number = n\n",
        "    aa=[x for x in range(number)]\n",
        "    plt.figure(figsize=(25,10)) \n",
        "    plt.plot(aa, y[:number], marker='.', label=\"actual\")\n",
        "    plt.plot(aa, y_total[:number], 'b', label=\"prediction\")\n",
        "    plt.xlabel('Price prediction of first {} used cars'.format(number), size=15)\n",
        "    plt.legend(fontsize=15)\n",
        "    plt.show()"
      ],
      "metadata": {
        "id": "6u3NvK26m1nz"
      },
      "execution_count": null,
      "outputs": []
    },
    {
      "cell_type": "markdown",
      "source": [
        "Setting Training and Testing Data.\n",
        "Making a list of classifiers"
      ],
      "metadata": {
        "id": "Z_2PUf9s8Vvz"
      }
    },
    {
      "cell_type": "code",
      "source": [
        "X_train, y_train = Definedata()\n",
        "X_test, y_test = DefineTestdata()\n",
        "# X_train, X_test, y_train, y_test = train_test_split(X, y, test_size = 0.2, random_state = 25)\n",
        "# Storing Classifiers we will be using to get best results\n",
        "from sklearn.neighbors import KNeighborsClassifier\n",
        "Classifiers = [['DecisionTreeClassifier',DecisionTreeClassifier()],\n",
        "              ['XGBClassifier', XGBClassifier()],\n",
        "              ['RandomForestClassifier', RandomForestClassifier()],\n",
        "              ['AdaBoostClassifier',AdaBoostClassifier()],\n",
        "              ['KNN',KNeighborsClassifier(n_neighbors=650)]]\n"
      ],
      "metadata": {
        "id": "4gnbc7mOhRFa"
      },
      "execution_count": null,
      "outputs": []
    },
    {
      "cell_type": "markdown",
      "source": [
        "Testing Accuracy on given classifiers"
      ],
      "metadata": {
        "id": "RmaIpVHa8tq8"
      }
    },
    {
      "cell_type": "markdown",
      "source": [],
      "metadata": {
        "id": "1vjNxuiH8tZE"
      }
    },
    {
      "cell_type": "code",
      "source": [
        "Acc = pd.DataFrame(index=None, columns=['Accuracy on Testing set'])\n",
        "for mod in Classifiers:\n",
        "    name = mod[0]\n",
        "    print(name)\n",
        "    model = mod[1]\n",
        "    model.fit(X_train,y_train)\n",
        "    y_pred = model.predict(X_test)\n",
        "    val = metrics.accuracy_score(y_test, y_pred)\n",
        "    Acc = Acc.append(pd.Series({'Accuracy on Testing set':val}),ignore_index=True )\n",
        "    \n",
        "# Sort values based on Accuracy\n",
        "Acc.sort_values(by='Accuracy on Testing set', ascending = False)"
      ],
      "metadata": {
        "id": "qOB9eRcnhTdM"
      },
      "execution_count": null,
      "outputs": []
    },
    {
      "cell_type": "markdown",
      "metadata": {
        "id": "-KsMcVXVsHIc"
      },
      "source": [
        "Hence , KNN is the best classification algorithm with index 5 from the table we delve into the best value of neighbours"
      ]
    },
    {
      "cell_type": "markdown",
      "source": [
        "Obtaining most suitable accuracy value and filling arrays for required plots.\n",
        "\n",
        "Appending multiple values to get best value of k in accuracy value."
      ],
      "metadata": {
        "id": "lSarwp4bDRTh"
      }
    },
    {
      "cell_type": "code",
      "source": [
        "acc = []\n",
        "error_rate = []\n",
        "test_error = []\n",
        "start_index = 1\n",
        "end_index=25\n",
        "onebyk=[]\n",
        "step=2\n",
        "# Will take some time\n",
        "\n",
        "for i in range(start_index,end_index,step):\n",
        "  name = \"knn\"\n",
        "  print(i)\n",
        "  model = KNeighborsClassifier(n_neighbors=i)\n",
        "  neigh = model.fit(X_train,y_train)\n",
        "  yhat = neigh.predict(X_test)\n",
        "  y_t_hat = neigh.predict(X_train)\n",
        "  y_pred = model.predict(X_test)\n",
        "  val = metrics.accuracy_score(y_test, y_pred)\n",
        "  error_rate.append(metrics.accuracy_score(y_train, y_t_hat))\n",
        "  test_error.append(metrics.accuracy_score(y_test, y_pred))\n",
        "  onebyk.append(1/i)\n",
        "  print(val)"
      ],
      "metadata": {
        "colab": {
          "base_uri": "https://localhost:8080/"
        },
        "id": "LP8ob4f66pC6",
        "outputId": "a595a5d1-61bb-4a21-f865-f7851d15453b"
      },
      "execution_count": null,
      "outputs": [
        {
          "output_type": "stream",
          "name": "stdout",
          "text": [
            "1\n",
            "0.93394\n",
            "3\n",
            "0.93448\n",
            "5\n",
            "0.93517\n",
            "7\n",
            "0.93585\n",
            "9\n",
            "0.9365\n",
            "11\n",
            "0.93658\n",
            "13\n",
            "0.93659\n",
            "15\n",
            "0.93658\n",
            "17\n",
            "0.93657\n",
            "19\n",
            "0.93658\n",
            "21\n",
            "0.93658\n",
            "23\n",
            "0.93658\n"
          ]
        }
      ]
    },
    {
      "cell_type": "markdown",
      "source": [
        "Resulting Confusion Matrix for Training set and Test set.\n",
        "Along with maximum axxuracy obtained."
      ],
      "metadata": {
        "id": "TMXtr4FHAEq3"
      }
    },
    {
      "cell_type": "code",
      "source": [
        "print(\"Accuracy Score : \", 93.66)\n",
        "neigh = KNeighborsClassifier(n_neighbors=25).fit(X_train,y_train)\n",
        "Pred_y = neigh.predict(X_test)\n",
        "y_train_pred = neigh.predict(X_train)\n",
        "print(\"Confusion Matrix Train\\n\",metrics.confusion_matrix(y_train, y_train_pred))\n",
        "print(\"Confusion Matrix Test\\n\",metrics.confusion_matrix(y_test, Pred_y))"
      ],
      "metadata": {
        "colab": {
          "base_uri": "https://localhost:8080/"
        },
        "id": "zULgfAkGABG1",
        "outputId": "b92b13ef-680a-45ee-f7aa-b458cca88e41"
      },
      "execution_count": null,
      "outputs": [
        {
          "output_type": "stream",
          "name": "stdout",
          "text": [
            "Accuracy Score :  93.66\n",
            "Confusion Matrix Train\n",
            " [[   852  31734]\n",
            " [   497 466917]]\n",
            "Confusion Matrix Test\n",
            " [[    0  6342]\n",
            " [    0 93658]]\n"
          ]
        }
      ]
    },
    {
      "cell_type": "markdown",
      "metadata": {
        "id": "QmCtA1UB4l7e"
      },
      "source": [
        "# Plotting Results"
      ]
    },
    {
      "cell_type": "code",
      "execution_count": null,
      "metadata": {
        "colab": {
          "base_uri": "https://localhost:8080/",
          "height": 421
        },
        "id": "CDMhHxoGWJdZ",
        "outputId": "58f376d0-1827-4c43-86fe-c43af7461f05"
      },
      "outputs": [
        {
          "output_type": "execute_result",
          "data": {
            "text/plain": [
              "Text(0, 0.5, 'Accuracy')"
            ]
          },
          "metadata": {},
          "execution_count": 24
        },
        {
          "output_type": "display_data",
          "data": {
            "text/plain": [
              "<Figure size 720x432 with 1 Axes>"
            ],
            "image/png": "[encoded data removed]"
          },
          "metadata": {
            "needs_background": "light"
          }
        }
      ],
      "source": [
        "plt.figure(figsize=(10,6))\n",
        "plt.plot(range(start_index,end_index,step),acc,color = 'blue', linestyle='dashed',\n",
        "         marker='o',markerfacecolor='red', markersize=10)\n",
        "plt.title('accuracy vs. K Value')\n",
        "plt.xlabel('K')\n",
        "plt.ylabel('Accuracy')\n",
        "print(\"Maximum accuracy:-\",max(acc),\"at K =\",start_index + step*acc.index(max(acc)))"
      ]
    },
    {
      "cell_type": "markdown",
      "metadata": {
        "id": "2-4h6PCDDlFe"
      },
      "source": [
        "Question 2"
      ]
    },
    {
      "cell_type": "markdown",
      "source": [
        "Training error decreases as 1/K (model flexibility) increases,"
      ],
      "metadata": {
        "id": "k1B67AllubSa"
      }
    },
    {
      "cell_type": "code",
      "execution_count": null,
      "metadata": {
        "colab": {
          "base_uri": "https://localhost:8080/",
          "height": 404
        },
        "id": "KSNq-F3520zm",
        "outputId": "ab3ed1e3-51be-4fbf-86b8-0d7bd9d1f571"
      },
      "outputs": [
        {
          "output_type": "display_data",
          "data": {
            "text/plain": [
              "<Figure size 720x432 with 1 Axes>"
            ],
            "image/png": "[encoded data removed]"
          },
          "metadata": {
            "needs_background": "light"
          }
        }
      ],
      "source": [
        "error_rate = [1-x for x in error_rate]\n",
        "r_err = error_rate[3:] \n",
        "r_one = onebyk[3:]\n",
        "plt.figure(figsize=(10,6))\n",
        "plt.plot(r_one,r_err,color = 'blue',linestyle='dashed',  \n",
        "         marker='o',markerfacecolor='red', markersize=10)\n",
        "plt.title('Training error Vs 1/K Value')\n",
        "plt.xlabel('1/K')\n",
        "plt.ylabel('Errors')\n",
        "# print(\"Min Error:-\",min(error_rate),\"at 1/K =\",1/(start_index +\n",
        "#  step*acc.index(min(error_rate))))\n",
        "test_error = [1-x for x in test_error]\n",
        "one_byk = onebyk[3:]\n",
        "test_err = test_error[3:]"
      ]
    },
    {
      "cell_type": "markdown",
      "source": [
        "Test error first decreases and then increases\n",
        "as 1/K (model flexibility) increases."
      ],
      "metadata": {
        "id": "3aWu6eW9vFpf"
      }
    },
    {
      "cell_type": "code",
      "execution_count": null,
      "metadata": {
        "colab": {
          "base_uri": "https://localhost:8080/",
          "height": 421
        },
        "id": "_54kS-_aJnme",
        "outputId": "bba56437-ed11-410d-d8e2-3511eae35420"
      },
      "outputs": [
        {
          "output_type": "execute_result",
          "data": {
            "text/plain": [
              "Text(0, 0.5, 'Error')"
            ]
          },
          "metadata": {},
          "execution_count": 31
        },
        {
          "output_type": "display_data",
          "data": {
            "text/plain": [
              "<Figure size 720x432 with 1 Axes>"
            ],
            "image/png": "[encoded data removed]"
          },
          "metadata": {
            "needs_background": "light"
          }
        }
      ],
      "source": [
        "plt.figure(figsize=(10,6))\n",
        "plt.plot(one_byk,test_err,color = 'blue',linestyle='dashed', \n",
        "         marker='o',markerfacecolor='red', markersize=10)\n",
        "plt.title('Testing error Vs 1/K Value')\n",
        "plt.xlabel('1/K')\n",
        "plt.ylabel('Error')\n"
      ]
    },
    {
      "cell_type": "code",
      "source": [
        "while True:pass"
      ],
      "metadata": {
        "id": "scjQzMqDmj7V"
      },
      "execution_count": null,
      "outputs": []
    }
  ],
  "metadata": {
    "colab": {
      "provenance": []
    },
    "kernelspec": {
      "display_name": "Python 3",
      "name": "python3"
    },
    "language_info": {
      "name": "python"
    }
  },
  "nbformat": 4,
  "nbformat_minor": 0
}