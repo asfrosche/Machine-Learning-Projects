{
  "cells": [
    {
      "cell_type": "markdown",
      "metadata": {
        "id": "Hl7oF328o2Bs"
      },
      "source": [
        "###1a###\n"
      ]
    },
    {
      "cell_type": "code",
      "execution_count": null,
      "metadata": {
        "colab": {
          "base_uri": "https://localhost:8080/",
          "height": 267
        },
        "id": "CH0WDjrpNkYg",
        "outputId": "0f3ac942-9c37-462e-da75-63dc06166bd7"
      },
      "outputs": [
        {
          "output_type": "execute_result",
          "data": {
            "text/plain": [
              "   Unnamed: 0     crim    zn  indus  chas    nox     rm   age     dis  rad  \\\n",
              "0           1  0.00632  18.0   2.31     0  0.538  6.575  65.2  4.0900    1   \n",
              "1           2  0.02731   0.0   7.07     0  0.469  6.421  78.9  4.9671    2   \n",
              "2           3  0.02729   0.0   7.07     0  0.469  7.185  61.1  4.9671    2   \n",
              "3           4  0.03237   0.0   2.18     0  0.458  6.998  45.8  6.0622    3   \n",
              "4           5  0.06905   0.0   2.18     0  0.458  7.147  54.2  6.0622    3   \n",
              "\n",
              "   tax  ptratio  lstat  medv  \n",
              "0  296     15.3   4.98  24.0  \n",
              "1  242     17.8   9.14  21.6  \n",
              "2  242     17.8   4.03  34.7  \n",
              "3  222     18.7   2.94  33.4  \n",
              "4  222     18.7   5.33  36.2  "
            ],
            "text/html": [
              "\n",
              "  <div id=\"df-b15fe237-7780-4e3e-8c1f-c010d2c5da62\">\n",
              "    <div class=\"colab-df-container\">\n",
              "      <div>\n",
              "<style scoped>\n",
              "    .dataframe tbody tr th:only-of-type {\n",
              "        vertical-align: middle;\n",
              "    }\n",
              "\n",
              "    .dataframe tbody tr th {\n",
              "        vertical-align: top;\n",
              "    }\n",
              "\n",
              "    .dataframe thead th {\n",
              "        text-align: right;\n",
              "    }\n",
              "</style>\n",
              "<table border=\"1\" class=\"dataframe\">\n",
              "  <thead>\n",
              "    <tr style=\"text-align: right;\">\n",
              "      <th></th>\n",
              "      <th>Unnamed: 0</th>\n",
              "      <th>crim</th>\n",
              "      <th>zn</th>\n",
              "      <th>indus</th>\n",
              "      <th>chas</th>\n",
              "      <th>nox</th>\n",
              "      <th>rm</th>\n",
              "      <th>age</th>\n",
              "      <th>dis</th>\n",
              "      <th>rad</th>\n",
              "      <th>tax</th>\n",
              "      <th>ptratio</th>\n",
              "      <th>lstat</th>\n",
              "      <th>medv</th>\n",
              "    </tr>\n",
              "  </thead>\n",
              "  <tbody>\n",
              "    <tr>\n",
              "      <th>0</th>\n",
              "      <td>1</td>\n",
              "      <td>0.00632</td>\n",
              "      <td>18.0</td>\n",
              "      <td>2.31</td>\n",
              "      <td>0</td>\n",
              "      <td>0.538</td>\n",
              "      <td>6.575</td>\n",
              "      <td>65.2</td>\n",
              "      <td>4.0900</td>\n",
              "      <td>1</td>\n",
              "      <td>296</td>\n",
              "      <td>15.3</td>\n",
              "      <td>4.98</td>\n",
              "      <td>24.0</td>\n",
              "    </tr>\n",
              "    <tr>\n",
              "      <th>1</th>\n",
              "      <td>2</td>\n",
              "      <td>0.02731</td>\n",
              "      <td>0.0</td>\n",
              "      <td>7.07</td>\n",
              "      <td>0</td>\n",
              "      <td>0.469</td>\n",
              "      <td>6.421</td>\n",
              "      <td>78.9</td>\n",
              "      <td>4.9671</td>\n",
              "      <td>2</td>\n",
              "      <td>242</td>\n",
              "      <td>17.8</td>\n",
              "      <td>9.14</td>\n",
              "      <td>21.6</td>\n",
              "    </tr>\n",
              "    <tr>\n",
              "      <th>2</th>\n",
              "      <td>3</td>\n",
              "      <td>0.02729</td>\n",
              "      <td>0.0</td>\n",
              "      <td>7.07</td>\n",
              "      <td>0</td>\n",
              "      <td>0.469</td>\n",
              "      <td>7.185</td>\n",
              "      <td>61.1</td>\n",
              "      <td>4.9671</td>\n",
              "      <td>2</td>\n",
              "      <td>242</td>\n",
              "      <td>17.8</td>\n",
              "      <td>4.03</td>\n",
              "      <td>34.7</td>\n",
              "    </tr>\n",
              "    <tr>\n",
              "      <th>3</th>\n",
              "      <td>4</td>\n",
              "      <td>0.03237</td>\n",
              "      <td>0.0</td>\n",
              "      <td>2.18</td>\n",
              "      <td>0</td>\n",
              "      <td>0.458</td>\n",
              "      <td>6.998</td>\n",
              "      <td>45.8</td>\n",
              "      <td>6.0622</td>\n",
              "      <td>3</td>\n",
              "      <td>222</td>\n",
              "      <td>18.7</td>\n",
              "      <td>2.94</td>\n",
              "      <td>33.4</td>\n",
              "    </tr>\n",
              "    <tr>\n",
              "      <th>4</th>\n",
              "      <td>5</td>\n",
              "      <td>0.06905</td>\n",
              "      <td>0.0</td>\n",
              "      <td>2.18</td>\n",
              "      <td>0</td>\n",
              "      <td>0.458</td>\n",
              "      <td>7.147</td>\n",
              "      <td>54.2</td>\n",
              "      <td>6.0622</td>\n",
              "      <td>3</td>\n",
              "      <td>222</td>\n",
              "      <td>18.7</td>\n",
              "      <td>5.33</td>\n",
              "      <td>36.2</td>\n",
              "    </tr>\n",
              "  </tbody>\n",
              "</table>\n",
              "</div>\n",
              "      <button class=\"colab-df-convert\" onclick=\"convertToInteractive('df-b15fe237-7780-4e3e-8c1f-c010d2c5da62')\"\n",
              "              title=\"Convert this dataframe to an interactive table.\"\n",
              "              style=\"display:none;\">\n",
              "        \n",
              "  <svg xmlns=\"http://www.w3.org/2000/svg\" height=\"24px\"viewBox=\"0 0 24 24\"\n",
              "       width=\"24px\">\n",
              "    <path d=\"M0 0h24v24H0V0z\" fill=\"none\"/>\n",
              "    <path d=\"M18.56 5.44l.94 2.06.94-2.06 2.06-.94-2.06-.94-.94-2.06-.94 2.06-2.06.94zm-11 1L8.5 8.5l.94-2.06 2.06-.94-2.06-.94L8.5 2.5l-.94 2.06-2.06.94zm10 10l.94 2.06.94-2.06 2.06-.94-2.06-.94-.94-2.06-.94 2.06-2.06.94z\"/><path d=\"M17.41 7.96l-1.37-1.37c-.4-.4-.92-.59-1.43-.59-.52 0-1.04.2-1.43.59L10.3 9.45l-7.72 7.72c-.78.78-.78 2.05 0 2.83L4 21.41c.39.39.9.59 1.41.59.51 0 1.02-.2 1.41-.59l7.78-7.78 2.81-2.81c.8-.78.8-2.07 0-2.86zM5.41 20L4 18.59l7.72-7.72 1.47 1.35L5.41 20z\"/>\n",
              "  </svg>\n",
              "      </button>\n",
              "      \n",
              "  <style>\n",
              "    .colab-df-container {\n",
              "      display:flex;\n",
              "      flex-wrap:wrap;\n",
              "      gap: 12px;\n",
              "    }\n",
              "\n",
              "    .colab-df-convert {\n",
              "      background-color: #E8F0FE;\n",
              "      border: none;\n",
              "      border-radius: 50%;\n",
              "      cursor: pointer;\n",
              "      display: none;\n",
              "      fill: #1967D2;\n",
              "      height: 32px;\n",
              "      padding: 0 0 0 0;\n",
              "      width: 32px;\n",
              "    }\n",
              "\n",
              "    .colab-df-convert:hover {\n",
              "      background-color: #E2EBFA;\n",
              "      box-shadow: 0px 1px 2px rgba(60, 64, 67, 0.3), 0px 1px 3px 1px rgba(60, 64, 67, 0.15);\n",
              "      fill: #174EA6;\n",
              "    }\n",
              "\n",
              "    [theme=dark] .colab-df-convert {\n",
              "      background-color: #3B4455;\n",
              "      fill: #D2E3FC;\n",
              "    }\n",
              "\n",
              "    [theme=dark] .colab-df-convert:hover {\n",
              "      background-color: #434B5C;\n",
              "      box-shadow: 0px 1px 3px 1px rgba(0, 0, 0, 0.15);\n",
              "      filter: drop-shadow(0px 1px 2px rgba(0, 0, 0, 0.3));\n",
              "      fill: #FFFFFF;\n",
              "    }\n",
              "  </style>\n",
              "\n",
              "      <script>\n",
              "        const buttonEl =\n",
              "          document.querySelector('#df-b15fe237-7780-4e3e-8c1f-c010d2c5da62 button.colab-df-convert');\n",
              "        buttonEl.style.display =\n",
              "          google.colab.kernel.accessAllowed ? 'block' : 'none';\n",
              "\n",
              "        async function convertToInteractive(key) {\n",
              "          const element = document.querySelector('#df-b15fe237-7780-4e3e-8c1f-c010d2c5da62');\n",
              "          const dataTable =\n",
              "            await google.colab.kernel.invokeFunction('convertToInteractive',\n",
              "                                                     [key], {});\n",
              "          if (!dataTable) return;\n",
              "\n",
              "          const docLinkHtml = 'Like what you see? Visit the ' +\n",
              "            '<a target=\"_blank\" href=https://colab.research.google.com/notebooks/data_table.ipynb>data table notebook</a>'\n",
              "            + ' to learn more about interactive tables.';\n",
              "          element.innerHTML = '';\n",
              "          dataTable['output_type'] = 'display_data';\n",
              "          await google.colab.output.renderOutput(dataTable, element);\n",
              "          const docLink = document.createElement('div');\n",
              "          docLink.innerHTML = docLinkHtml;\n",
              "          element.appendChild(docLink);\n",
              "        }\n",
              "      </script>\n",
              "    </div>\n",
              "  </div>\n",
              "  "
            ]
          },
          "metadata": {},
          "execution_count": 13
        }
      ],
      "source": [
        "import numpy as np # linear algebra\n",
        "import pandas as pd \n",
        "import matplotlib.pyplot as plt \n",
        "import seaborn as sns \n",
        "\n",
        "%matplotlib inline\n",
        "\n",
        "bton = \"Boston.csv\"\n",
        "df = pd.read_csv(bton)\n",
        "\n",
        "df.head()\n",
        "\n",
        "# df.isnull().sum()"
      ]
    },
    {
      "cell_type": "markdown",
      "metadata": {
        "id": "Fyuh47oToY4k"
      },
      "source": [
        "Loading the Libraries"
      ]
    },
    {
      "cell_type": "code",
      "execution_count": null,
      "metadata": {
        "colab": {
          "base_uri": "https://localhost:8080/"
        },
        "id": "6535tlIXUsWE",
        "outputId": "ddb61c40-ebc6-4ccb-b15b-f7c5c17e7778"
      },
      "outputs": [
        {
          "output_type": "stream",
          "name": "stdout",
          "text": [
            "(506, 1)\n",
            "(506, 1)\n",
            "(404, 1)\n",
            "(102, 1)\n",
            "(404, 1)\n",
            "(102, 1)\n"
          ]
        }
      ],
      "source": [
        "X = df[\"rm\"]\n",
        "Y = df['medv']\n",
        "X = np.array(X).reshape(-1,1)\n",
        "Y = np.array(Y).reshape(-1,1)\n",
        "\n",
        "print(X.shape)\n",
        "print(Y.shape)\n",
        "\n",
        "from sklearn.model_selection import train_test_split\n",
        "\n",
        "# Holding out 20% data for testing\n",
        "X_train, X_test, Y_train, Y_test = train_test_split(X, Y, test_size = 0.2, random_state=5)\n",
        "print(X_train.shape)\n",
        "print(X_test.shape)\n",
        "print(Y_train.shape)\n",
        "print(Y_test.shape)"
      ]
    },
    {
      "cell_type": "markdown",
      "metadata": {
        "id": "X5A6wUAAobtV"
      },
      "source": [
        "Training the data"
      ]
    },
    {
      "cell_type": "code",
      "execution_count": null,
      "metadata": {
        "id": "yPgVI0O7ZClV",
        "colab": {
          "base_uri": "https://localhost:8080/"
        },
        "outputId": "f50f8f1b-1695-40cc-893a-3229b3117685"
      },
      "outputs": [
        {
          "output_type": "stream",
          "name": "stdout",
          "text": [
            "Linear Training MSE is 48.612648648611334\n",
            "Linear Testing MSE is 23.970455527991305\n"
          ]
        }
      ],
      "source": [
        "from sklearn.linear_model import LinearRegression\n",
        "from sklearn.metrics import mean_squared_error\n",
        "\n",
        "lin_model = LinearRegression()\n",
        "lin_model.fit(X_train, Y_train)\n",
        "\n",
        "y_predict = lin_model.predict(X_train)\n",
        "mse = (mean_squared_error(Y_train, y_predict))\n",
        "# r2 = round(lin_model.score(X_train, Y_train),2)\n",
        "print('Linear Training MSE is {}'.format(mse))\n",
        "\n",
        "y_predict_2 = lin_model.predict(X_test)\n",
        "mse = (mean_squared_error(Y_test, y_predict_2))\n",
        "# r2 = round(lin_model.score(X_train, Y_train),2)\n",
        "print('Linear Testing MSE is {}'.format(mse))"
      ]
    },
    {
      "cell_type": "markdown",
      "metadata": {
        "id": "2ZGqHdpwoiJ0"
      },
      "source": [
        "Linear Regression MSE values calculation"
      ]
    },
    {
      "cell_type": "code",
      "execution_count": null,
      "metadata": {
        "id": "4Rf5Lbn4gl3G",
        "colab": {
          "base_uri": "https://localhost:8080/"
        },
        "outputId": "f8f45aca-74a0-4567-fed9-538ce80b9ec6"
      },
      "outputs": [
        {
          "output_type": "stream",
          "name": "stdout",
          "text": [
            "Poly(1) Training MSE is 48.612648648611334\n",
            "Poly(1) Testing MSE is 23.970455527991298\n",
            "Poly(2) Training MSE is 42.427602706796975\n",
            "Poly(2) Testing MSE is 21.2707188529886\n",
            "Poly(3) Training MSE is 41.13965578201437\n",
            "Poly(3) Testing MSE is 20.901128610738215\n",
            "Poly(4) Training MSE is 39.396029456377335\n",
            "Poly(4) Testing MSE is 23.591710006402327\n",
            "Poly(5) Training MSE is 37.57529946512454\n",
            "Poly(5) Testing MSE is 23.485187051953652\n",
            "Poly(7) Training MSE is 37.45120273224176\n",
            "Poly(7) Testing MSE is 23.751494582338886\n",
            "Poly(10) Training MSE is 37.23076804389749\n",
            "Poly(10) Testing MSE is 23.908976393224503\n",
            "Poly(100) Training MSE is 60.912386144231455\n",
            "Poly(100) Testing MSE is 76.80930436036542\n"
          ]
        },
        {
          "output_type": "execute_result",
          "data": {
            "text/plain": [
              "(60.912386144231455, 76.80930436036542)"
            ]
          },
          "metadata": {},
          "execution_count": 16
        }
      ],
      "source": [
        "from sklearn.preprocessing import PolynomialFeatures\n",
        "\n",
        "def Poly_MSE(n, bol = 0):\n",
        "  poly = PolynomialFeatures(degree = n)\n",
        "  X_poly_train = poly.fit_transform(X_train)\n",
        "  X_poly_test = poly.fit_transform(X_test)\n",
        "\n",
        "  poly_reg = LinearRegression()\n",
        "  poly_reg.fit(X_poly_train, Y_train)\n",
        "\n",
        "\n",
        "  y_predict = poly_reg.predict(X_poly_train)\n",
        "  mse = (mean_squared_error(Y_train, y_predict))\n",
        "\n",
        "  if(bol):  print('Poly({}) Training MSE is {}'.format(n,mse))\n",
        "\n",
        "  y_predict_2 = poly_reg.predict(X_poly_test)\n",
        "  mse_test = (mean_squared_error(Y_test, y_predict_2))\n",
        "\n",
        "  if(bol): print('Poly({}) Testing MSE is {}'.format(n,mse_test))\n",
        "  return(mse,mse_test)\n",
        "\n",
        "\n",
        "Poly_MSE(1,1)\n",
        "Poly_MSE(2,1)\n",
        "Poly_MSE(3,1)\n",
        "Poly_MSE(4,1)\n",
        "Poly_MSE(5,1)\n",
        "Poly_MSE(7,1)\n",
        "Poly_MSE(10,1)\n",
        "Poly_MSE(100,1)"
      ]
    },
    {
      "cell_type": "markdown",
      "metadata": {
        "id": "Ess4E8UvooEX"
      },
      "source": [
        "Polynomial Model MSE values with different degrees(n), along with a bool(bol) whether to print it or not.\n"
      ]
    },
    {
      "cell_type": "markdown",
      "metadata": {
        "id": "Nv5S8Qzynz7H"
      },
      "source": [
        "We see that polynomial models to a certain  degree decreases the MSE for the data set. \n",
        "Later this reaches a minimum and starts overfitting data to increase the MSE again.\n",
        "\n",
        "______\n",
        "End_1a\n",
        "_______\n"
      ]
    },
    {
      "cell_type": "markdown",
      "metadata": {
        "id": "1dbibdlFoX6-"
      },
      "source": [
        "1b\n",
        "\n",
        "\n",
        "Plot between MSE values for training data, testing data [Y axis] and the flexibility (1/degree) [X axis]"
      ]
    },
    {
      "cell_type": "code",
      "execution_count": null,
      "metadata": {
        "id": "mdrAlyR4pPmv",
        "colab": {
          "base_uri": "https://localhost:8080/",
          "height": 279
        },
        "outputId": "9078f4fc-47f7-415c-f07a-a5559cd12dfd"
      },
      "outputs": [
        {
          "output_type": "display_data",
          "data": {
            "text/plain": [
              "<Figure size 432x288 with 1 Axes>"
            ],
            "image/png": "[encoded data removed]"
          },
          "metadata": {
            "needs_background": "light"
          }
        }
      ],
      "source": [
        "import numpy as np\n",
        "from matplotlib import pyplot as plt\n",
        "tr = []\n",
        "test = []\n",
        "deg = []\n",
        "for i in range(1,100):\n",
        "  tr.append(Poly_MSE(i)[0])\n",
        "  test.append(Poly_MSE(i)[1])\n",
        "  deg.append(1/i)\n",
        "\n",
        "plt.plot(deg, tr, color='red', label = \"Training MSE\")\n",
        "plt.plot(deg, test, color='blue', label = \"Testing MSE\")\n",
        "plt.ylabel(\"MSE\")\n",
        "plt.xlabel(\"Flexibility (1/x) \")\n",
        "plt.legend()\n",
        "\n",
        "plt.show()"
      ]
    },
    {
      "cell_type": "markdown",
      "metadata": {
        "id": "BNFUQiyqxBjC"
      },
      "source": [
        "________\n",
        "end_1b\n",
        "_______\n",
        "\n",
        "1c"
      ]
    },
    {
      "cell_type": "code",
      "execution_count": null,
      "metadata": {
        "id": "_lao1tawxToo",
        "colab": {
          "base_uri": "https://localhost:8080/"
        },
        "outputId": "569a07a9-29ce-4997-f9de-1c6d8afe0501"
      },
      "outputs": [
        {
          "output_type": "stream",
          "name": "stdout",
          "text": [
            "4.4714109539599365\n",
            "4.260496876399198\n",
            "4.213183298137221\n",
            "4.306460847227965\n",
            "4.161192527903798\n",
            "4.19994473296264\n",
            "4.209895339530535\n",
            "4.222309655417611\n",
            "4.45829310552071\n"
          ]
        }
      ],
      "source": [
        "from sklearn.model_selection import LeaveOneOut\n",
        "from sklearn.model_selection import cross_val_score\n",
        "\n",
        "def Loocv(n):\n",
        "  looc = LeaveOneOut()\n",
        "  poly = PolynomialFeatures(degree = n)\n",
        "  X_poly =  poly.fit_transform(X)\n",
        "  \n",
        "  lm = LinearRegression()\n",
        "  lm.fit(X_poly,Y)\n",
        "\n",
        "  score = cross_val_score(lm, X_poly, Y, scoring='neg_mean_absolute_error',\n",
        "                          cv=looc, n_jobs=-1)\n",
        "  \n",
        "  score = np.mean(np.absolute(score))\n",
        "  print(score)\n",
        "\n",
        "for i in range(1,10):\n",
        "  Loocv(i)\n"
      ]
    },
    {
      "cell_type": "markdown",
      "metadata": {
        "id": "v5ulOnfsxJhC"
      },
      "source": [
        "MSE scores decrease till degree 5 and start increasing from there.\n",
        "Best MSE at Degree 5\n",
        "\n",
        "____\n",
        "1d\n",
        "____\n"
      ]
    },
    {
      "cell_type": "code",
      "execution_count": null,
      "metadata": {
        "id": "iM1hfrVQCnPS",
        "colab": {
          "base_uri": "https://localhost:8080/"
        },
        "outputId": "b35ef8ee-ed43-4c2e-ebf2-9a0dbba94bbf"
      },
      "outputs": [
        {
          "output_type": "stream",
          "name": "stdout",
          "text": [
            "4.471112683891881\n",
            "4.254121863727749\n",
            "4.209713055113044\n",
            "4.279139209709468\n",
            "4.1408159113040135\n",
            "4.226391225527246\n",
            "4.200711437477372\n",
            "4.273159508768033\n",
            "4.359089591156837\n"
          ]
        }
      ],
      "source": [
        "from sklearn.model_selection import KFold\n",
        "\n",
        "def kfold(n):\n",
        "#build multiple linear regression model\n",
        "  X = df[\"rm\"]\n",
        "  Y = df['medv']\n",
        "  X = np.array(X).reshape(-1,1)\n",
        "  Y = np.array(Y).reshape(-1,1)\n",
        "  kfolds = KFold(n_splits=10, random_state = 1, shuffle = True)\n",
        "\n",
        "  poly = PolynomialFeatures(degree = n)\n",
        "  X_poly =  poly.fit_transform(X)\n",
        "  \n",
        "  reg = LinearRegression()\n",
        "  reg = reg.fit(X_poly,Y)\n",
        "\n",
        "#use k-fold CV to evaluate model\n",
        "  scores = cross_val_score(reg, X_poly, Y, scoring='neg_mean_absolute_error',\n",
        "                         cv=kfolds, n_jobs=-1)\n",
        "\n",
        "#view mean absolute error\n",
        "  print(np.mean(np.absolute(scores)))\n",
        "\n",
        "for i in range(1,10):\n",
        "  kfold(i)\n",
        "\n"
      ]
    },
    {
      "cell_type": "markdown",
      "metadata": {
        "id": "dodt105Cgudn"
      },
      "source": [
        "MSE scores decrease till degree 5 and start increasing from there.\n",
        "Best MSE at Degree 5"
      ]
    },
    {
      "cell_type": "markdown",
      "metadata": {
        "id": "wgFzA2mUH1x6"
      },
      "source": [
        "_______\n",
        "\n",
        "____\n",
        "q2\n",
        "____\n",
        "# New Section"
      ]
    },
    {
      "cell_type": "markdown",
      "metadata": {
        "id": "tYWR66qFYyfh"
      },
      "source": [
        "Data based on Three predictors: aver-\n",
        "age number of rooms per house, average age of houses, and percent\n",
        "of households with low socioeconomic status\n",
        "\n",
        "\n",
        "Training the data and finding linear MSE"
      ]
    },
    {
      "cell_type": "code",
      "execution_count": null,
      "metadata": {
        "id": "cRlVb5nbKMqc",
        "colab": {
          "base_uri": "https://localhost:8080/"
        },
        "outputId": "a49e2d9b-d2df-4a69-a02a-ccf7e8c1020b"
      },
      "outputs": [
        {
          "output_type": "stream",
          "name": "stdout",
          "text": [
            "(354, 3)\n",
            "(152, 3)\n",
            "(354,)\n",
            "(152,)\n",
            "Linear Training MSE is 27.99699225810804\n",
            "Linear Testing MSE is 36.52832051219202\n",
            "Poly(2) Training MSE is 17.029298303351986\n",
            "Poly(2) Testing MSE is 20.786368141946525\n",
            "Poly(3) Training MSE is 15.295650924461071\n",
            "Poly(3) Testing MSE is 20.37162544348886\n",
            "Poly(10) Training MSE is 5.5607680450371575\n",
            "Poly(10) Testing MSE is 76427.83433377731\n"
          ]
        },
        {
          "output_type": "execute_result",
          "data": {
            "text/plain": [
              "(5.5607680450371575, 76427.83433377731)"
            ]
          },
          "metadata": {},
          "execution_count": 20
        }
      ],
      "source": [
        "\n",
        "X = pd.DataFrame(np.c_[df['lstat'], df['rm'], df['age']], columns = ['lstat','rm','age'])\n",
        "Y = df['medv']\n",
        "\n",
        "from sklearn.model_selection import train_test_split\n",
        "\n",
        "X_train, X_test, Y_train, Y_test = train_test_split(X, Y, test_size = 0.3, random_state=5)\n",
        "print(X_train.shape)\n",
        "print(X_test.shape)\n",
        "print(Y_train.shape)\n",
        "print(Y_test.shape)\n",
        "\n",
        "from sklearn.linear_model import LinearRegression\n",
        "from sklearn.metrics import mean_squared_error\n",
        "\n",
        "lin_model = LinearRegression()\n",
        "lin_model.fit(X_train, Y_train)\n",
        "\n",
        "y_predict = lin_model.predict(X_train)\n",
        "mse = (mean_squared_error(Y_train, y_predict))\n",
        "print('Linear Training MSE is {}'.format(mse))\n",
        "\n",
        "y_predict_2 = lin_model.predict(X_test)\n",
        "mse = (mean_squared_error(Y_test, y_predict_2))\n",
        "print('Linear Testing MSE is {}'.format(mse))\n",
        "\n",
        "Poly_MSE(1)\n",
        "Poly_MSE(2,1)\n",
        "Poly_MSE(3,1)\n",
        "Poly_MSE(10,1)\n"
      ]
    },
    {
      "cell_type": "markdown",
      "metadata": {
        "id": "XYcJiqWSdFhR"
      },
      "source": [
        "PLotting the data and printing the degree (-1 of value seen in array) of lowest MSE.\n"
      ]
    },
    {
      "cell_type": "code",
      "execution_count": null,
      "metadata": {
        "id": "6lhTvf8cSsyk",
        "colab": {
          "base_uri": "https://localhost:8080/",
          "height": 607
        },
        "outputId": "ce4ca61d-3b31-46d0-bae9-372a664260e9"
      },
      "outputs": [
        {
          "output_type": "display_data",
          "data": {
            "text/plain": [
              "<Figure size 432x288 with 1 Axes>"
            ],
            "image/png": "[encoded data removed]"
          },
          "metadata": {
            "needs_background": "light"
          }
        },
        {
          "output_type": "stream",
          "name": "stdout",
          "text": [
            "Poly(1) Training MSE is 27.996992258108044\n",
            "Poly(1) Testing MSE is 36.52832051219205\n",
            "Poly(2) Training MSE is 17.029298303351986\n",
            "Poly(2) Testing MSE is 20.786368141946525\n",
            "Poly(3) Training MSE is 15.295650924461071\n",
            "Poly(3) Testing MSE is 20.37162544348886\n",
            "Poly(4) Training MSE is 13.591899525926134\n",
            "Poly(4) Testing MSE is 21.79466152287288\n",
            "Poly(5) Training MSE is 12.471710340337962\n",
            "Poly(5) Testing MSE is 802.2036620744717\n",
            "Poly(6) Training MSE is 11.586514427628556\n",
            "Poly(6) Testing MSE is 6618.8305351160025\n",
            "Poly(7) Training MSE is 8.74728036783086\n",
            "Poly(7) Testing MSE is 2100.2902580031114\n",
            "Poly(8) Training MSE is 8.346442023929155\n",
            "Poly(8) Testing MSE is 29949.102171652172\n",
            "Poly(9) Training MSE is 5.981260409042133\n",
            "Poly(9) Testing MSE is 33401.80275194347\n"
          ]
        }
      ],
      "source": [
        "import numpy as np\n",
        "from matplotlib import pyplot as plt\n",
        "tr = []\n",
        "test = []\n",
        "deg = []\n",
        "for i in range(1,100):\n",
        "  tr.append(Poly_MSE(i)[0])\n",
        "  test.append(Poly_MSE(i)[1])\n",
        "  deg.append(1/i)\n",
        "\n",
        "plt.plot(deg, tr, color='red', label = \"Training MSE\")\n",
        "plt.plot(deg, test, color='blue', label = \"Testing MSE\")\n",
        "plt.ylabel(\"MSE\")\n",
        "plt.xlabel(\"Flexibility (1/x) \")\n",
        "plt.ylim(0,75)\n",
        "plt.legend()\n",
        "\n",
        "plt.show()\n",
        "\n",
        "#printing MSE values manually\n",
        "for i in range(1,10):\n",
        "  Poly_MSE(i,1)"
      ]
    },
    {
      "cell_type": "code",
      "execution_count": null,
      "metadata": {
        "id": "r1wd9BA1gQc4",
        "colab": {
          "base_uri": "https://localhost:8080/"
        },
        "outputId": "e12961da-0ba2-4712-a9e3-5cf55e53d3c0"
      },
      "outputs": [
        {
          "output_type": "stream",
          "name": "stdout",
          "text": [
            "[10  9 11 12  8  7  6 15 13  5 16  4  3 17 14  2  1 20 18 22 27 19 26 23\n",
            " 28 24 25 30 29 31 32 33  0 34 35 36 37 39 44 43 45 42 46 38 53 47 21 54\n",
            " 52 49 60 48 55 41 56 67 65 59 69 70 51 68 58 71 50 73 74 40 78 94 66 61\n",
            " 72 79 77 76 75 80 93 81 62 83 92 57 84 85 91 97 82 89 64 90 88 98 87 96\n",
            " 95 86 63]\n",
            "[ 2  1  3  0  4  6  5  7  8  9 10 11 12 20 30 26 29 19 21 43 28 31 22 41\n",
            " 27 23 44 13 42 24 25 15 14 17 16 40 18 35 36 37 39 38 32 45 46 47 33 34\n",
            " 48 49 50 51 91 52 53 92 54 93 83 95 61 59 94 60 97 84 72 55 71 57 56 96\n",
            " 73 98 58 85 86 74 75 76 87 77 78 88 79 80 62 70 81 89 64 63 65 82 68 69\n",
            " 67 66 90]\n"
          ]
        }
      ],
      "source": [
        "print(np.argsort(tr))\n",
        "print(np.argsort(test))\n",
        "#shows index values ( which is degree value - 1)"
      ]
    },
    {
      "cell_type": "markdown",
      "metadata": {
        "id": "qmjfABcJdsg_"
      },
      "source": [
        "Training data reaches its most optimal when MSE is lowest. This occurs at degree 11.\n",
        "For testing data this occurs at degree 3. \n",
        "\n",
        "---\n",
        "\n"
      ]
    },
    {
      "cell_type": "markdown",
      "metadata": {
        "id": "BigPYSh0dW-n"
      },
      "source": [
        "____\n",
        "2b\n",
        "____\n",
        "removing half the sample and re-running 2a"
      ]
    },
    {
      "cell_type": "code",
      "execution_count": null,
      "metadata": {
        "id": "JsKHaNnQbDZD",
        "colab": {
          "base_uri": "https://localhost:8080/",
          "height": 388
        },
        "outputId": "97d7227a-ee63-49c8-98cd-40759485a42b"
      },
      "outputs": [
        {
          "output_type": "stream",
          "name": "stdout",
          "text": [
            "(177, 3)\n",
            "(76, 3)\n",
            "(177,)\n",
            "(76,)\n",
            "Linear Training MSE is 33.41939889779747\n",
            "Linear Testing MSE is 30.28937733272516\n"
          ]
        },
        {
          "output_type": "display_data",
          "data": {
            "text/plain": [
              "<Figure size 432x288 with 1 Axes>"
            ],
            "image/png": "[encoded data removed]"
          },
          "metadata": {
            "needs_background": "light"
          }
        }
      ],
      "source": [
        "df = df.sample(frac=.5)\n",
        "\n",
        "X = pd.DataFrame(np.c_[df['lstat'], df['rm'], df['age']], columns = ['lstat','rm','age'])\n",
        "Y = df['medv']\n",
        "\n",
        "from sklearn.model_selection import train_test_split\n",
        "\n",
        "X_train, X_test, Y_train, Y_test = train_test_split(X, Y, test_size = 0.3, random_state=5)\n",
        "print(X_train.shape)\n",
        "print(X_test.shape)\n",
        "print(Y_train.shape)\n",
        "print(Y_test.shape)\n",
        "\n",
        "from sklearn.linear_model import LinearRegression\n",
        "from sklearn.metrics import mean_squared_error\n",
        "\n",
        "lin_model = LinearRegression()\n",
        "lin_model.fit(X_train, Y_train)\n",
        "\n",
        "y_predict = lin_model.predict(X_train)\n",
        "mse = (mean_squared_error(Y_train, y_predict))\n",
        "# r2 = round(lin_model.score(X_train, Y_train),2)\n",
        "print('Linear Training MSE is {}'.format(mse))\n",
        "\n",
        "y_predict_2 = lin_model.predict(X_test)\n",
        "mse = (mean_squared_error(Y_test, y_predict_2))\n",
        "# r2 = round(lin_model.score(X_train, Y_train),2)\n",
        "print('Linear Testing MSE is {}'.format(mse))\n",
        "\n",
        "import numpy as np\n",
        "from matplotlib import pyplot as plt\n",
        "tr = []\n",
        "test = []\n",
        "deg = []\n",
        "# plt.rcParams[\"figure.autolayout\"] = True\n",
        "for i in range(1,30):\n",
        "  tr.append(Poly_MSE(i)[0])\n",
        "  test.append(Poly_MSE(i)[1])\n",
        "  deg.append(1/i)\n",
        "\n",
        "plt.plot(deg, tr, color='red', label = \"Training MSE\")\n",
        "plt.plot(deg, test, color='blue', label = \"Testing MSE\")\n",
        "plt.ylabel(\"MSE\")\n",
        "plt.xlabel(\"Flexibility (1/x) \")\n",
        "plt.legend()\n",
        "plt.ylim(0,75)\n",
        "\n",
        "plt.show()\n"
      ]
    },
    {
      "cell_type": "code",
      "execution_count": null,
      "metadata": {
        "id": "ipsYVjN8hmra",
        "colab": {
          "base_uri": "https://localhost:8080/"
        },
        "outputId": "777f1468-b399-47ef-cc1b-d720de7cedd7"
      },
      "outputs": [
        {
          "output_type": "stream",
          "name": "stdout",
          "text": [
            "[10  9 12  8 11 13  7 14  5 21 23  2 19 20 28 25 24 27  3 22  1  6  4 26\n",
            " 15  0 18 17 16]\n",
            "[ 1  2  0  3  4  5  6  7  8  9 13 21 10 20 24 22 26 23 25 27 11 12 15 28\n",
            " 14 19 16 18 17]\n"
          ]
        }
      ],
      "source": [
        "print(np.argsort(tr))\n",
        "print(np.argsort(test))\n",
        "#shows index values ( which is degree value - 1)"
      ]
    },
    {
      "cell_type": "markdown",
      "metadata": {
        "id": "4sfdqpyHhAII"
      },
      "source": [
        "Again\n",
        "Training data reaches its most optimal when MSE is lowest. This occurs at degree 11.\n",
        "For testing data this occurs at degree 3. \n",
        "note: this varies depending on split\n"
      ]
    },
    {
      "cell_type": "markdown",
      "metadata": {
        "id": "uAZBj0O7dfSY"
      },
      "source": [
        "____\n",
        "2c\n",
        "____\n",
        "removing half the sample and re-running 2a"
      ]
    },
    {
      "cell_type": "code",
      "execution_count": null,
      "metadata": {
        "id": "Rz-s87rZbkpE",
        "colab": {
          "base_uri": "https://localhost:8080/",
          "height": 461
        },
        "outputId": "0b34cf3e-09e7-4907-cc4b-6c0a6471bb13"
      },
      "outputs": [
        {
          "output_type": "stream",
          "name": "stdout",
          "text": [
            "(44, 3)\n",
            "(19, 3)\n",
            "(44,)\n",
            "(19,)\n",
            "Linear Training MSE is 29.895798072746654\n",
            "Linear Testing MSE is 7.5292168965174\n",
            "[ 5  6  7  8  9  4 11 10 12 13 14 15  3  2 16 17 21 24 25 26 20  1 19 27\n",
            " 28 23  0 18 22]\n",
            "[ 0  1  2  3  5  4  6  7  8  9 10 11 13 12 15 14 24 20 16 23 25 21 26 17\n",
            " 19 27 22 18 28]\n"
          ]
        },
        {
          "output_type": "display_data",
          "data": {
            "text/plain": [
              "<Figure size 432x288 with 1 Axes>"
            ],
            "image/png": "[encoded data removed]"
          },
          "metadata": {
            "needs_background": "light"
          }
        }
      ],
      "source": [
        "df = df.sample(frac=.25)\n",
        "X = pd.DataFrame(np.c_[df['lstat'], df['rm'], df['age']], columns = ['lstat','rm','age'])\n",
        "Y = df['medv']\n",
        "\n",
        "from sklearn.model_selection import train_test_split\n",
        "\n",
        "X_train, X_test, Y_train, Y_test = train_test_split(X, Y, test_size = 0.3, random_state=5)\n",
        "print(X_train.shape)\n",
        "print(X_test.shape)\n",
        "print(Y_train.shape)\n",
        "print(Y_test.shape)\n",
        "\n",
        "from sklearn.linear_model import LinearRegression\n",
        "from sklearn.metrics import mean_squared_error\n",
        "\n",
        "lin_model = LinearRegression()\n",
        "lin_model.fit(X_train, Y_train)\n",
        "\n",
        "y_predict = lin_model.predict(X_train)\n",
        "mse = (mean_squared_error(Y_train, y_predict))\n",
        "# r2 = round(lin_model.score(X_train, Y_train),2)\n",
        "print('Linear Training MSE is {}'.format(mse))\n",
        "\n",
        "y_predict_2 = lin_model.predict(X_test)\n",
        "mse = (mean_squared_error(Y_test, y_predict_2))\n",
        "# r2 = round(lin_model.score(X_train, Y_train),2)\n",
        "print('Linear Testing MSE is {}'.format(mse))\n",
        "\n",
        "import numpy as np\n",
        "from matplotlib import pyplot as plt\n",
        "tr = []\n",
        "test = []\n",
        "deg = []\n",
        "# plt.rcParams[\"figure.autolayout\"] = True\n",
        "for i in range(1,30):\n",
        "  tr.append(Poly_MSE(i)[0])\n",
        "  test.append(Poly_MSE(i)[1])\n",
        "  deg.append(1/i)\n",
        "\n",
        "print(np.argsort(tr))\n",
        "print(np.argsort(test))\n",
        "#shows index values ( which is degree value - 1)\n",
        "\n",
        "plt.plot(deg, tr, color='red', label = \"Training MSE\")\n",
        "plt.plot(deg, test, color='blue', label = \"Testing MSE\")\n",
        "plt.ylabel(\"MSE\")\n",
        "plt.xlabel(\"Flexibility (1/x) \")\n",
        "plt.legend()\n",
        "plt.ylim(0,75)\n",
        "\n",
        "plt.show()\n"
      ]
    },
    {
      "cell_type": "markdown",
      "metadata": {
        "id": "LiLlRzOihD9T"
      },
      "source": [
        "Again, for 1/4 data\n",
        "Training data reaches its most optimal when MSE is lowest. This occurs at degree 6. For testing data this occurs at degree 2.\n",
        "note: this varies depending on split"
      ]
    }
  ],
  "metadata": {
    "colab": {
      "provenance": []
    },
    "kernelspec": {
      "display_name": "Python 3",
      "name": "python3"
    },
    "language_info": {
      "name": "python"
    }
  },
  "nbformat": 4,
  "nbformat_minor": 0
}